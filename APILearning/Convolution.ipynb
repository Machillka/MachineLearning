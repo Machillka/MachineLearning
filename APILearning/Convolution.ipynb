{
 "cells": [
  {
   "cell_type": "code",
   "execution_count": 100,
   "metadata": {},
   "outputs": [],
   "source": [
    "import numpy as np\n",
    "from tensorflow import keras\n",
    "from tensorflow import random as tfRandom\n",
    "np.random.seed(114514)\n",
    "tfRandom.set_seed(114514)"
   ]
  },
  {
   "cell_type": "code",
   "execution_count": 101,
   "metadata": {},
   "outputs": [
    {
     "name": "stdout",
     "output_type": "stream",
     "text": [
      "(3, 5, 10)\n",
      "tf.Tensor(\n",
      "[[-0.02376  0.01843 -0.02507  0.02417 -0.02283 -0.0219   0.00493  0.04587\n",
      "  -0.02493  0.04892]\n",
      " [-0.02376  0.01843 -0.02507  0.02417 -0.02283 -0.0219   0.00493  0.04587\n",
      "  -0.02493  0.04892]\n",
      " [-0.02376  0.01843 -0.02507  0.02417 -0.02283 -0.0219   0.00493  0.04587\n",
      "  -0.02493  0.04892]\n",
      " [-0.02376  0.01843 -0.02507  0.02417 -0.02283 -0.0219   0.00493  0.04587\n",
      "  -0.02493  0.04892]\n",
      " [-0.02376  0.01843 -0.02507  0.02417 -0.02283 -0.0219   0.00493  0.04587\n",
      "  -0.02493  0.04892]], shape=(5, 10), dtype=float16)\n"
     ]
    }
   ],
   "source": [
    "X = np.random.rand(3, 5)                # the size of feature vector is 5, create 3 input datas \n",
    "\n",
    "embedding = keras.layers.Embedding(\n",
    "    input_dim = 1,\n",
    "    output_dim = 10\n",
    ")\n",
    "\n",
    "embeddingOutput = embedding(X)\n",
    "print(embeddingOutput.shape)\n",
    "print(embeddingOutput[0])"
   ]
  },
  {
   "cell_type": "markdown",
   "metadata": {},
   "source": [
    "# Embedding -> 嵌入\n",
    "设 $inputShape = [batchSize, height, width]$\n",
    "则有 Embedding 后\n",
    "$ shape = [batchSize, height, width, outputDim] $"
   ]
  },
  {
   "cell_type": "code",
   "execution_count": 102,
   "metadata": {},
   "outputs": [
    {
     "name": "stdout",
     "output_type": "stream",
     "text": [
      "(4, 10, 7, 10)\n"
     ]
    }
   ],
   "source": [
    "shape = (4, 10, 9, 9)                        # shape = (batchsize, D_1, D_2, …, D_n, height, width)\n",
    "\n",
    "X = tfRandom.normal(shape)                \n",
    "conv1 = keras.layers.Conv1D(\n",
    "    filters = 10,\n",
    "    kernel_size = 3,\n",
    "    activation = 'relu',\n",
    ")\n",
    "\n",
    "conv1Output = conv1(X)\n",
    "print(conv1Output.shape)"
   ]
  },
  {
   "cell_type": "markdown",
   "metadata": {},
   "source": [
    "# Conv1d -> 一维卷积层\n",
    "利用一个 1 * kernel size 的内核进行卷积操作\n",
    "\n",
    "$ inputShape = [batchSize, height, width] $\n",
    "则，进行卷积操作后的 shape 近似看作 $ [batchSize, n, filters] $\n",
    "\n",
    "1D 卷积层会令维度降1 (height, width) -> (n, 1)\n",
    "但是不改变depth或者其他更高维度的维度\n",
    "画图理解\n",
    "\n",
    "对于一般情况 $ InputShape = (batchsize, D_1, D_2, …, D_n, height, width) $\n",
    "有输出维度为 $ OutputShape = (batchsize, D_1, D_2, …, D_n, n, filters) $"
   ]
  },
  {
   "cell_type": "code",
   "execution_count": 103,
   "metadata": {},
   "outputs": [
    {
     "name": "stdout",
     "output_type": "stream",
     "text": [
      "(4, 9, 8, 5)\n"
     ]
    }
   ],
   "source": [
    "shape = (4, 10, 9, 1)                        # shape = (batchsize, D_1, D_2, …, D_n, height, width, depth)\n",
    "\n",
    "X = tfRandom.normal(shape)                \n",
    "\n",
    "conv2 = keras.layers.Conv2D(\n",
    "    filters = 5,\n",
    "    kernel_size = (2, 2),\n",
    "    activation = 'relu',\n",
    ")\n",
    "\n",
    "conv2Output = conv2(X)\n",
    "print(conv2Output.shape)"
   ]
  },
  {
   "cell_type": "markdown",
   "metadata": {},
   "source": [
    "Conv2D -> 二维卷积层\n",
    "同 1D 理\n",
    "把 $(height, width, [depth]) -> (n, m, 1)$\n",
    "其中 1 可以替换成 filter 的个数\n",
    "\n",
    "对1维数据执行Conv1D 则不改变维度\n",
    "同理2维 -> Conv2D, 不改变维度\n",
    "\n",
    "Conv3D 完全同理"
   ]
  }
 ],
 "metadata": {
  "kernelspec": {
   "display_name": "Python 3",
   "language": "python",
   "name": "python3"
  },
  "language_info": {
   "codemirror_mode": {
    "name": "ipython",
    "version": 3
   },
   "file_extension": ".py",
   "mimetype": "text/x-python",
   "name": "python",
   "nbconvert_exporter": "python",
   "pygments_lexer": "ipython3",
   "version": "3.10.5"
  },
  "orig_nbformat": 4
 },
 "nbformat": 4,
 "nbformat_minor": 2
}
