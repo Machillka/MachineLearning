{
 "cells": [
  {
   "cell_type": "code",
   "execution_count": 15,
   "metadata": {},
   "outputs": [],
   "source": [
    "from tensorflow import keras"
   ]
  },
  {
   "cell_type": "code",
   "execution_count": 16,
   "metadata": {},
   "outputs": [
    {
     "name": "stdout",
     "output_type": "stream",
     "text": [
      "Model: \"sequential_1\"\n",
      "_________________________________________________________________\n",
      " Layer (type)                Output Shape              Param #   \n",
      "=================================================================\n",
      " dense_2 (Dense)             (None, 114688)            14794752  \n",
      "                                                                 \n",
      " reshape_1 (Reshape)         (None, 128, 128, 7)       0         \n",
      "                                                                 \n",
      " conv2d_transpose_2 (Conv2D  (None, 128, 128, 64)      11264     \n",
      " Transpose)                                                      \n",
      "                                                                 \n",
      " conv2d_transpose_3 (Conv2D  (None, 256, 256, 32)      18464     \n",
      " Transpose)                                                      \n",
      "                                                                 \n",
      "=================================================================\n",
      "Total params: 14824480 (56.55 MB)\n",
      "Trainable params: 14824480 (56.55 MB)\n",
      "Non-trainable params: 0 (0.00 Byte)\n",
      "_________________________________________________________________\n",
      "None\n"
     ]
    }
   ],
   "source": [
    "units = 128\n",
    "\n",
    "model = keras.Sequential([\n",
    "    keras.layers.Dense(\n",
    "        units = units * units * 7,\n",
    "        input_shape = (128, )\n",
    "        ),\n",
    "    \n",
    "    keras.layers.Reshape((units, units, 7)),\n",
    "\n",
    "    keras.layers.Conv2DTranspose(\n",
    "        filters = 64,\n",
    "        kernel_size = (5, 5),\n",
    "        padding = 'same' \n",
    "    ),\n",
    "\n",
    "    keras.layers.Conv2DTranspose(\n",
    "        filters = 32,\n",
    "        kernel_size = (3, 3),\n",
    "        strides = (2, 2),\n",
    "        padding = 'same'\n",
    "    )\n",
    "\n",
    "])\n",
    "\n",
    "\n",
    "\n",
    "print(model.summary())"
   ]
  },
  {
   "cell_type": "code",
   "execution_count": 17,
   "metadata": {},
   "outputs": [
    {
     "name": "stdout",
     "output_type": "stream",
     "text": [
      "[1.0, 1.0, 1.0] [1.0, 1.0, 1.0]\n",
      "tf.Tensor(0.3132617, shape=(), dtype=float32)\n"
     ]
    },
    {
     "data": {
      "text/plain": [
       "'\\n>>> def foo(x: int): -> int\\n...     return x  \\n'"
      ]
     },
     "execution_count": 17,
     "metadata": {},
     "output_type": "execute_result"
    }
   ],
   "source": [
    "import tensorflow as tf\n",
    "\n",
    "loss = keras.losses.BinaryCrossentropy(from_logits = True)\n",
    "\n",
    "# y = tf.constant([1.0])\n",
    "# output = tf.constant([1.0])\n",
    "y = [1., 1., 1.]\n",
    "output = [1., 1., 1.]\n",
    "\n",
    "print(y, output)\n",
    "\n",
    "print(loss(y, output))\n",
    "\n",
    "\"\"\"\n",
    ">>> def foo(x: int): -> int\n",
    "...     return x  \n",
    "\"\"\"\n"
   ]
  },
  {
   "cell_type": "code",
   "execution_count": 18,
   "metadata": {},
   "outputs": [
    {
     "name": "stdout",
     "output_type": "stream",
     "text": [
      "tf.Tensor([[8.864758e-01 3.981863e-04 7.814042e-02]], shape=(1, 3), dtype=float32)\n"
     ]
    }
   ],
   "source": [
    "tf.random.set_seed(3)\n",
    "\n",
    "liner = keras.layers.Dense(3, activation = 'sigmoid')\n",
    "x = tf.constant([[5.0, 6.0]])\n",
    "\n",
    "\n",
    "print(liner(x))\n"
   ]
  },
  {
   "cell_type": "code",
   "execution_count": 19,
   "metadata": {},
   "outputs": [
    {
     "name": "stdout",
     "output_type": "stream",
     "text": [
      "hello world!\n"
     ]
    },
    {
     "data": {
      "text/plain": [
       "1"
      ]
     },
     "execution_count": 19,
     "metadata": {},
     "output_type": "execute_result"
    }
   ],
   "source": [
    "def foo(x):\n",
    "    def test():\n",
    "        print('hello world!')\n",
    "    test()\n",
    "    return x\n",
    "\n",
    "foo(1)"
   ]
  },
  {
   "cell_type": "code",
   "execution_count": 20,
   "metadata": {},
   "outputs": [
    {
     "name": "stdout",
     "output_type": "stream",
     "text": [
      "hello world!\n",
      "1\n"
     ]
    },
    {
     "data": {
      "text/plain": [
       "'\\nfoo2:\\n    foo(foo2())\\n'"
      ]
     },
     "execution_count": 20,
     "metadata": {},
     "output_type": "execute_result"
    }
   ],
   "source": [
    "@foo\n",
    "def foo2(x):\n",
    "    return x\n",
    "\n",
    "print(foo2(1))\n",
    "\n",
    "'''\n",
    "foo2:\n",
    "    foo(foo2())\n",
    "'''"
   ]
  },
  {
   "cell_type": "code",
   "execution_count": 23,
   "metadata": {},
   "outputs": [],
   "source": [
    "BUFFERSIZE = 100\n",
    "BATCHSIZE = 16\n",
    "dataset = tf.random.normal([100, 10, 10])\n",
    "dataset = tf.data.Dataset.from_tensor_slices(dataset).shuffle(BUFFERSIZE)"
   ]
  },
  {
   "cell_type": "code",
   "execution_count": 25,
   "metadata": {},
   "outputs": [
    {
     "name": "stdout",
     "output_type": "stream",
     "text": [
      "(10, 10)\n",
      "(10, 10)\n",
      "(10, 10)\n",
      "(10, 10)\n",
      "(10, 10)\n",
      "(10, 10)\n",
      "(10, 10)\n",
      "(10, 10)\n",
      "(10, 10)\n",
      "(10, 10)\n",
      "(10, 10)\n",
      "(10, 10)\n",
      "(10, 10)\n",
      "(10, 10)\n",
      "(10, 10)\n",
      "(10, 10)\n",
      "(10, 10)\n",
      "(10, 10)\n",
      "(10, 10)\n",
      "(10, 10)\n",
      "(10, 10)\n",
      "(10, 10)\n",
      "(10, 10)\n",
      "(10, 10)\n",
      "(10, 10)\n",
      "(10, 10)\n",
      "(10, 10)\n",
      "(10, 10)\n",
      "(10, 10)\n",
      "(10, 10)\n",
      "(10, 10)\n",
      "(10, 10)\n",
      "(10, 10)\n",
      "(10, 10)\n",
      "(10, 10)\n",
      "(10, 10)\n",
      "(10, 10)\n",
      "(10, 10)\n",
      "(10, 10)\n",
      "(10, 10)\n",
      "(10, 10)\n",
      "(10, 10)\n",
      "(10, 10)\n",
      "(10, 10)\n",
      "(10, 10)\n",
      "(10, 10)\n",
      "(10, 10)\n",
      "(10, 10)\n",
      "(10, 10)\n",
      "(10, 10)\n",
      "(10, 10)\n",
      "(10, 10)\n",
      "(10, 10)\n",
      "(10, 10)\n",
      "(10, 10)\n",
      "(10, 10)\n",
      "(10, 10)\n",
      "(10, 10)\n",
      "(10, 10)\n",
      "(10, 10)\n",
      "(10, 10)\n",
      "(10, 10)\n",
      "(10, 10)\n",
      "(10, 10)\n",
      "(10, 10)\n",
      "(10, 10)\n",
      "(10, 10)\n",
      "(10, 10)\n",
      "(10, 10)\n",
      "(10, 10)\n",
      "(10, 10)\n",
      "(10, 10)\n",
      "(10, 10)\n",
      "(10, 10)\n",
      "(10, 10)\n",
      "(10, 10)\n",
      "(10, 10)\n",
      "(10, 10)\n",
      "(10, 10)\n",
      "(10, 10)\n",
      "(10, 10)\n",
      "(10, 10)\n",
      "(10, 10)\n",
      "(10, 10)\n",
      "(10, 10)\n",
      "(10, 10)\n",
      "(10, 10)\n",
      "(10, 10)\n",
      "(10, 10)\n",
      "(10, 10)\n",
      "(10, 10)\n",
      "(10, 10)\n",
      "(10, 10)\n",
      "(10, 10)\n",
      "(10, 10)\n",
      "(10, 10)\n",
      "(10, 10)\n",
      "(10, 10)\n",
      "(10, 10)\n",
      "(10, 10)\n",
      "100\n"
     ]
    }
   ],
   "source": [
    "i = 0\n",
    "for batch in dataset:\n",
    "    print(batch.numpy().shape)\n",
    "    i += 1\n",
    "print(i)"
   ]
  }
 ],
 "metadata": {
  "kernelspec": {
   "display_name": "Python 3",
   "language": "python",
   "name": "python3"
  },
  "language_info": {
   "codemirror_mode": {
    "name": "ipython",
    "version": 3
   },
   "file_extension": ".py",
   "mimetype": "text/x-python",
   "name": "python",
   "nbconvert_exporter": "python",
   "pygments_lexer": "ipython3",
   "version": "3.10.5"
  }
 },
 "nbformat": 4,
 "nbformat_minor": 2
}
