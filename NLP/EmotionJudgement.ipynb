{
 "cells": [
  {
   "cell_type": "code",
   "execution_count": 6,
   "metadata": {},
   "outputs": [],
   "source": [
    "import numpy as np\n",
    "import pandas as pd\n",
    "import matplotlib.pyplot as plt\n",
    "%matplotlib inline"
   ]
  },
  {
   "cell_type": "code",
   "execution_count": 7,
   "metadata": {},
   "outputs": [],
   "source": [
    "# import datasets\n",
    "\n",
    "from sklearn.utils import shuffle\n",
    "\n",
    "data = pd.read_csv('../Database/emotionjudgemen.csv')\n",
    "data = shuffle(data)\n",
    "\n",
    "Y, X = np.array(data['label']), np.array(data['review'])\n",
    "\n",
    "dataSize = len(X)\n",
    "baseCut = 0.7\n",
    "\n",
    "\n",
    "trainX, trainY = X[ : int(dataSize * baseCut)], Y[ : int(dataSize * baseCut)]\n",
    "testX, testY = X[int(dataSize * baseCut) :], Y[int(dataSize * baseCut) :]"
   ]
  },
  {
   "cell_type": "code",
   "execution_count": 16,
   "metadata": {},
   "outputs": [],
   "source": [
    "# create vocabulary idx -> character; character -> idx\n",
    "\n",
    "char2idx = {}\n",
    "idx2char = {}\n",
    "vocabulary = []\n",
    "\n",
    "idx = 0\n",
    "meansSentenceLength = 0\n",
    "\n",
    "buf = 0\n",
    "\n",
    "for line in X:\n",
    "    for word in line:\n",
    "        if word not in vocabulary:\n",
    "            vocabulary.append(word)\n",
    "            char2idx[word] = idx\n",
    "            idx2char[idx] = word\n",
    "            idx += 1\n",
    "\n",
    "\n",
    "systemWords = ['<EOS>', '<STA>', '<PAD>']\n",
    "vocabulary += systemWords\n",
    "\n",
    "for word in systemWords:\n",
    "    char2idx[word] = idx\n",
    "    idx2char[idx] = word\n",
    "    idx += 1\n"
   ]
  }
 ],
 "metadata": {
  "kernelspec": {
   "display_name": "Python 3",
   "language": "python",
   "name": "python3"
  },
  "language_info": {
   "codemirror_mode": {
    "name": "ipython",
    "version": 3
   },
   "file_extension": ".py",
   "mimetype": "text/x-python",
   "name": "python",
   "nbconvert_exporter": "python",
   "pygments_lexer": "ipython3",
   "version": "3.10.5"
  },
  "orig_nbformat": 4
 },
 "nbformat": 4,
 "nbformat_minor": 2
}
