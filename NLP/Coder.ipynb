{
 "cells": [
  {
   "cell_type": "code",
   "execution_count": 1,
   "metadata": {},
   "outputs": [],
   "source": [
    "import numpy as np\n",
    "import pandas as pd\n",
    "import matplotlib.pyplot as plt\n",
    "%matplotlib inline"
   ]
  },
  {
   "cell_type": "code",
   "execution_count": 2,
   "metadata": {},
   "outputs": [],
   "source": [
    "from tensorflow import keras\n",
    "\n",
    "class Coder(keras.Model):\n",
    "    '''Coder -> use for creating Encoder Network and Decoder Network'''\n",
    "    def __init__(self, embeddingShape, rnnCellCount, coderDepth):\n",
    "        '''\n",
    "            embeddingShape: (inputShape, outputDim);\n",
    "            runCellCount: the number of rnnCell of single layer;\n",
    "            coderDepth: the depvvth of the coder Network\n",
    "        '''\n",
    "\n",
    "        super(Coder, self).__init__()\n",
    "\n",
    "        self.embedding = keras.layers.Embedding(\n",
    "            input_dim = embeddingShape[0],\n",
    "            output_dim = embeddingShape[1]\n",
    "        )\n",
    "\n",
    "        self.coder = []\n",
    "        self.coderDepth = coderDepth\n",
    "\n",
    "        for i in range(self.coderDepth):\n",
    "            self.coder.append(\n",
    "                keras.layers.RNN(\n",
    "                    rnnCellCount,\n",
    "                    return_sequences = True,\n",
    "                    return_state = True\n",
    "                )\n",
    "            )\n",
    "\n",
    "    def call(self, inputs):\n",
    "        '''\n",
    "            inputs is trainXShape, also the shape of embeddingInputShape\n",
    "            This function is used for forwarding of the coder network \n",
    "        '''\n",
    "        embeddingOutput = self.embedding(inputs)\n",
    "        \n",
    "        coderOutput, coderStateH, coderStateC = self.coderp[0](embeddingOutput)\n",
    "\n",
    "        for i in range(self.coderDepth - 1):\n",
    "            coderOutput, coderStateH, coderStateC = self.coderp[i + 1](\n",
    "                coderOutput,\n",
    "                initial_state = [\n",
    "                    coderStateH,\n",
    "                    coderStateC\n",
    "                ]\n",
    "            )\n",
    "\n",
    "        return coderOutput, coderStateH, coderStateC\n"
   ]
  }
 ],
 "metadata": {
  "kernelspec": {
   "display_name": "Python 3",
   "language": "python",
   "name": "python3"
  },
  "language_info": {
   "codemirror_mode": {
    "name": "ipython",
    "version": 3
   },
   "file_extension": ".py",
   "mimetype": "text/x-python",
   "name": "python",
   "nbconvert_exporter": "python",
   "pygments_lexer": "ipython3",
   "version": "3.10.11"
  },
  "orig_nbformat": 4
 },
 "nbformat": 4,
 "nbformat_minor": 2
}
