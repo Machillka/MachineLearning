{
 "cells": [
  {
   "cell_type": "code",
   "execution_count": 18,
   "metadata": {},
   "outputs": [
    {
     "name": "stdout",
     "output_type": "stream",
     "text": [
      "x, y = (1, 2)\n",
      "<class 'str'>\n"
     ]
    }
   ],
   "source": [
    "# 3.8 之后的新功能, 格式化字面值 -> 求值\n",
    "\n",
    "x = 1\n",
    "y = 2\n",
    "\n",
    "print(f\"{x, y = }\")\n",
    "\n",
    "p = f\"{x, y = }\"\n",
    "print(type(p))\n"
   ]
  },
  {
   "cell_type": "code",
   "execution_count": 25,
   "metadata": {},
   "outputs": [
    {
     "name": "stdout",
     "output_type": "stream",
     "text": [
      "True\n",
      "4\n",
      "3\n",
      "2\n",
      "1\n"
     ]
    }
   ],
   "source": [
    "# 海象运算符: 先赋值，后进行逻辑运算\n",
    "\n",
    "a = 2233\n",
    "\n",
    "if (a := True) == False:\n",
    "    print(\"a is False\")\n",
    "print(f\"{a}\")\n",
    "\n",
    "n = 5\n",
    "\n",
    "while (n := n - 1) > 0:\n",
    "    print(n)\n"
   ]
  },
  {
   "cell_type": "code",
   "execution_count": 52,
   "metadata": {},
   "outputs": [
    {
     "name": "stdout",
     "output_type": "stream",
     "text": [
      "Running! Input data: 1\n",
      "Running! Input data: 2\n",
      "Running! Input data: 3\n",
      "Running! Input data: 3\n",
      "Running! Input data: 4\n",
      "Running! Input data: 4\n",
      "[9, 16]\n",
      "Running! Input data: 1\n",
      "Running! Input data: 2\n",
      "Running! Input data: 3\n",
      "Running! Input data: 4\n",
      "[9, 16]\n"
     ]
    }
   ],
   "source": [
    "# := 作为推导使用\n",
    "def Catch(x):\n",
    "    print(\"Running! Input data: %d\" % x)\n",
    "    return x ** 2\n",
    "\n",
    "nums = [1, 2, 3, 4]\n",
    "\n",
    "output = [Catch(i) for i in nums if Catch(i) > 5]\n",
    "print(output)\n",
    "\n",
    "# 在逻辑运算的时候先给 k 赋值，之后在存储到list里面不需要重复计算\n",
    "output = [k for i in nums if (k := Catch(i)) > 5]\n",
    "print(output)"
   ]
  }
 ],
 "metadata": {
  "language_info": {
   "name": "python"
  }
 },
 "nbformat": 4,
 "nbformat_minor": 2
}
