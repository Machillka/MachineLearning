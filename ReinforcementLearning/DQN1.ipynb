{
 "cells": [
  {
   "cell_type": "code",
   "execution_count": 1,
   "metadata": {},
   "outputs": [],
   "source": [
    "# DQN\n",
    "import keras\n",
    "import numpy as np\n",
    "import matplotlib.pyplot as plt\n",
    "import pandas as pd\n",
    "\n",
    "%matplotlib inline"
   ]
  },
  {
   "cell_type": "code",
   "execution_count": null,
   "metadata": {},
   "outputs": [],
   "source": [
    "'''\n",
    "use the dense to generate the action\n",
    "'''\n",
    "class Network(keras.Model):\n",
    "    def __init__(self, actionNum, stateShape):\n",
    "        super().__init__()\n",
    "        self.model = keras.Sequential([\n",
    "            keras.layers.Dense(32, input_shape = (stateShape, )),\n",
    "            keras.layers.Dense(64),\n",
    "            keras.layers.LeakyReLU(),\n",
    "            keras.layers.Dense(actionNum),\n",
    "        ])\n",
    "        \n",
    "    def call(self, state):\n",
    "        return self.model(state)\n",
    "\n",
    "    def CopyVariable(self, network):\n",
    "        '''\n",
    "        param:\n",
    "            network:    the other network model\n",
    "                type:   Sequencial\n",
    "        func:\n",
    "            Copy the variable of other network model to self \n",
    "        '''\n",
    "        for selfLayer, otherLayer in zip(self.model.layers, network.layers):\n",
    "            selfLayer.set_weights(otherLayer.get_weights())\n",
    "\n",
    "class DQN(keras.Model):\n",
    "    def __init__(self, actionNum, stateShape, epsilon, batchSize, poolSize):\n",
    "        '''\n",
    "        param:\n",
    "            actionNum:  the number of action\n",
    "            stateShape: the shape of state\n",
    "            epsilon:    the parameter which is used in e-Greedy\n",
    "            batchSize:  the batch size\n",
    "            poolSize:   the size of memory pool\n",
    "        '''\n",
    "        super().__init__()\n",
    "    \n",
    "        self.actionNum = actionNum\n",
    "        self.stateShape = stateShape\n",
    "        self.epsilon = epsilon\n",
    "        self.batchSize = batchSize\n",
    "        self.poolSize = poolSize\n",
    "\n",
    "        self.chooseActionNet = Network(actionNum, stateShape)\n",
    "        self.evaluateNetwork = Network(actionNum, stateShape)\n",
    "\n",
    "    def ChooseAction(self):...\n",
    "\n",
    "    def MemoryPool(self):...\n",
    "\n",
    "    def Train(self):...\n"
   ]
  }
 ],
 "metadata": {
  "kernelspec": {
   "display_name": "Python 3",
   "language": "python",
   "name": "python3"
  },
  "language_info": {
   "codemirror_mode": {
    "name": "ipython",
    "version": 3
   },
   "file_extension": ".py",
   "mimetype": "text/x-python",
   "name": "python",
   "nbconvert_exporter": "python",
   "pygments_lexer": "ipython3",
   "version": "3.10.11"
  }
 },
 "nbformat": 4,
 "nbformat_minor": 2
}
