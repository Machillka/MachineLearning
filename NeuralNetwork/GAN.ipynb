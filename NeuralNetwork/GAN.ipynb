{
 "cells": [
  {
   "cell_type": "code",
   "execution_count": 1,
   "metadata": {},
   "outputs": [],
   "source": [
    "import numpy as np\n",
    "import pandas as np\n",
    "import matplotlib.pyplot as plt\n",
    "%matplotlib inline"
   ]
  },
  {
   "cell_type": "code",
   "execution_count": 2,
   "metadata": {},
   "outputs": [],
   "source": [
    "from tensorflow import keras\n",
    "# 生成对抗式神经网络1\n",
    "\n",
    "class Identifier(keras.Model):\n",
    "    '''\n",
    "    识别器模型生成 \n",
    "    '''\n",
    "    def __init__(self, convolutionCount, convKernelSize, convFilterCount, poolingCount, poolingSize, dropoutSize, dropoutRate):\n",
    "        super().__init__()\n",
    "        \n",
    "        self.layersCount = convolutionCount\n",
    "\n",
    "        #-- create the convolution layers\n",
    "        self.convolution = []\n",
    "        for i in range(convolutionCount):\n",
    "            self.convolution.append(\n",
    "                keras.layers.Conv2D(\n",
    "                    filters = convFilterCount[i],\n",
    "                    kernel_size = convKernelSize[i]\n",
    "                )\n",
    "            )\n",
    "\n",
    "        #-- create the pooling layers\n",
    "        self.pooling = []\n",
    "        for i in range(poolingCount):\n",
    "            self.pooling.append(\n",
    "                keras.layers.MaxPool2D(\n",
    "                    pool_size = poolingSize[i]\n",
    "                )\n",
    "            )\n",
    "        \n",
    "        #-- use the dropout layers\n",
    "        self.dropout = []\n",
    "        for i in range(dropoutSize):\n",
    "            self.dropout.append(\n",
    "                keras.layers.Dropout(dropoutRate)\n",
    "            )\n",
    "\n",
    "        self.outputDense = keras.layers.Dense(1, activation = 'sigmoid')\n",
    "    \n",
    "    def call(self, inputDate):\n",
    "        output = self.convolution[0](inputDate)\n",
    "        \n",
    "        # -- 执行前向转播\n",
    "        for i in range(1, self.layersCount):\n",
    "            output = self.convolution[i](output)\n",
    "            output = self.dropout[i](output)\n",
    "            output = self.pooling[i](output)\n",
    "        \n",
    "        output = self.outputDense(output)\n",
    "\n",
    "        return output\n",
    "\n",
    "\n",
    "class \n"
   ]
  },
  {
   "cell_type": "code",
   "execution_count": null,
   "metadata": {},
   "outputs": [],
   "source": []
  }
 ],
 "metadata": {
  "kernelspec": {
   "display_name": "Python 3",
   "language": "python",
   "name": "python3"
  },
  "language_info": {
   "codemirror_mode": {
    "name": "ipython",
    "version": 3
   },
   "file_extension": ".py",
   "mimetype": "text/x-python",
   "name": "python",
   "nbconvert_exporter": "python",
   "pygments_lexer": "ipython3",
   "version": "3.10.5"
  }
 },
 "nbformat": 4,
 "nbformat_minor": 2
}
