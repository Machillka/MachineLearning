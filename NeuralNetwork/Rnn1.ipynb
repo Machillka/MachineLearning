{
 "cells": [
  {
   "cell_type": "code",
   "execution_count": 24,
   "metadata": {},
   "outputs": [],
   "source": [
    "import tensorflow as tf\n",
    "import numpy as np\n",
    "import pandas as pd \n",
    "import matplotlib.pyplot as plt\n",
    "%matplotlib inline"
   ]
  },
  {
   "cell_type": "code",
   "execution_count": 25,
   "metadata": {},
   "outputs": [],
   "source": [
    "dataX = np.array([[1, 1], [1, 4], [4, 5], [5, 1], [1, 4], [4, 1]])\n",
    "dataY = np.array([4, 5, 1, 4, 1, 1])"
   ]
  },
  {
   "cell_type": "code",
   "execution_count": 26,
   "metadata": {},
   "outputs": [],
   "source": [
    "labelShape = 6\n",
    "trainX = []\n",
    "for line in dataX:\n",
    "    trainX.append([tf.one_hot(x, depth = labelShape) for x in line])\n",
    "trainX = np.reshape(trainX, (len(trainX), 2, labelShape))\n",
    "trainY = dataY"
   ]
  },
  {
   "cell_type": "code",
   "execution_count": 27,
   "metadata": {},
   "outputs": [],
   "source": [
    "#[ 送入样本数, 循环核时间展开步数, 时间步输入特征数 ]\n",
    "model = tf.keras.Sequential([\n",
    "    tf.keras.layers.LSTM(10, return_sequences=True),\n",
    "    tf.keras.layers.LSTM(10),\n",
    "    tf.keras.layers.Dense(labelShape, activation='softmax')\n",
    "])"
   ]
  },
  {
   "attachments": {},
   "cell_type": "markdown",
   "metadata": {},
   "source": [
    "采用了双层LSTM\n",
    "其实本案例使用单层RNN就可以了"
   ]
  },
  {
   "cell_type": "code",
   "execution_count": 28,
   "metadata": {},
   "outputs": [],
   "source": [
    "model.compile(\n",
    "    loss = tf.keras.losses.SparseCategoricalCrossentropy(from_logits = False),\n",
    "    optimizer = 'adam',\n",
    "    metrics = ['sparse_categorical_accuracy']\n",
    ")"
   ]
  },
  {
   "cell_type": "code",
   "execution_count": 29,
   "metadata": {},
   "outputs": [
    {
     "name": "stdout",
     "output_type": "stream",
     "text": [
      "Epoch 1/100\n"
     ]
    },
    {
     "name": "stdout",
     "output_type": "stream",
     "text": [
      "1/1 [==============================] - 3s 3s/step - loss: 1.7896 - sparse_categorical_accuracy: 0.3333\n",
      "Epoch 2/100\n",
      "1/1 [==============================] - 0s 20ms/step - loss: 1.7869 - sparse_categorical_accuracy: 0.5000\n",
      "Epoch 3/100\n",
      "1/1 [==============================] - 0s 7ms/step - loss: 1.7842 - sparse_categorical_accuracy: 0.5000\n",
      "Epoch 4/100\n",
      "1/1 [==============================] - 0s 10ms/step - loss: 1.7816 - sparse_categorical_accuracy: 0.5000\n",
      "Epoch 5/100\n",
      "1/1 [==============================] - 0s 5ms/step - loss: 1.7789 - sparse_categorical_accuracy: 0.5000\n",
      "Epoch 6/100\n",
      "1/1 [==============================] - 0s 12ms/step - loss: 1.7762 - sparse_categorical_accuracy: 0.5000\n",
      "Epoch 7/100\n",
      "1/1 [==============================] - 0s 5ms/step - loss: 1.7735 - sparse_categorical_accuracy: 0.5000\n",
      "Epoch 8/100\n",
      "1/1 [==============================] - 0s 13ms/step - loss: 1.7708 - sparse_categorical_accuracy: 0.5000\n",
      "Epoch 9/100\n",
      "1/1 [==============================] - 0s 2ms/step - loss: 1.7681 - sparse_categorical_accuracy: 0.5000\n",
      "Epoch 10/100\n",
      "1/1 [==============================] - 0s 9ms/step - loss: 1.7654 - sparse_categorical_accuracy: 0.5000\n",
      "Epoch 11/100\n",
      "1/1 [==============================] - 0s 11ms/step - loss: 1.7626 - sparse_categorical_accuracy: 0.5000\n",
      "Epoch 12/100\n",
      "1/1 [==============================] - 0s 4ms/step - loss: 1.7599 - sparse_categorical_accuracy: 0.5000\n",
      "Epoch 13/100\n",
      "1/1 [==============================] - 0s 10ms/step - loss: 1.7571 - sparse_categorical_accuracy: 0.5000\n",
      "Epoch 14/100\n",
      "1/1 [==============================] - 0s 7ms/step - loss: 1.7543 - sparse_categorical_accuracy: 0.5000\n",
      "Epoch 15/100\n",
      "1/1 [==============================] - 0s 5ms/step - loss: 1.7515 - sparse_categorical_accuracy: 0.5000\n",
      "Epoch 16/100\n",
      "1/1 [==============================] - 0s 10ms/step - loss: 1.7487 - sparse_categorical_accuracy: 0.5000\n",
      "Epoch 17/100\n",
      "1/1 [==============================] - 0s 0s/step - loss: 1.7459 - sparse_categorical_accuracy: 0.5000\n",
      "Epoch 18/100\n",
      "1/1 [==============================] - 0s 4ms/step - loss: 1.7430 - sparse_categorical_accuracy: 0.5000\n",
      "Epoch 19/100\n",
      "1/1 [==============================] - 0s 13ms/step - loss: 1.7401 - sparse_categorical_accuracy: 0.5000\n",
      "Epoch 20/100\n",
      "1/1 [==============================] - 0s 0s/step - loss: 1.7372 - sparse_categorical_accuracy: 0.5000\n",
      "Epoch 21/100\n",
      "1/1 [==============================] - 0s 20ms/step - loss: 1.7343 - sparse_categorical_accuracy: 0.5000\n",
      "Epoch 22/100\n",
      "1/1 [==============================] - 0s 12ms/step - loss: 1.7313 - sparse_categorical_accuracy: 0.5000\n",
      "Epoch 23/100\n",
      "1/1 [==============================] - 0s 0s/step - loss: 1.7284 - sparse_categorical_accuracy: 0.5000\n",
      "Epoch 24/100\n",
      "1/1 [==============================] - 0s 13ms/step - loss: 1.7253 - sparse_categorical_accuracy: 0.5000\n",
      "Epoch 25/100\n",
      "1/1 [==============================] - 0s 0s/step - loss: 1.7223 - sparse_categorical_accuracy: 0.5000\n",
      "Epoch 26/100\n",
      "1/1 [==============================] - 0s 22ms/step - loss: 1.7192 - sparse_categorical_accuracy: 0.5000\n",
      "Epoch 27/100\n",
      "1/1 [==============================] - 0s 6ms/step - loss: 1.7160 - sparse_categorical_accuracy: 0.5000\n",
      "Epoch 28/100\n",
      "1/1 [==============================] - 0s 7ms/step - loss: 1.7129 - sparse_categorical_accuracy: 0.5000\n",
      "Epoch 29/100\n",
      "1/1 [==============================] - 0s 12ms/step - loss: 1.7097 - sparse_categorical_accuracy: 0.5000\n",
      "Epoch 30/100\n",
      "1/1 [==============================] - 0s 2ms/step - loss: 1.7064 - sparse_categorical_accuracy: 0.5000\n",
      "Epoch 31/100\n",
      "1/1 [==============================] - 0s 3ms/step - loss: 1.7031 - sparse_categorical_accuracy: 0.5000\n",
      "Epoch 32/100\n",
      "1/1 [==============================] - 0s 15ms/step - loss: 1.6998 - sparse_categorical_accuracy: 0.5000\n",
      "Epoch 33/100\n",
      "1/1 [==============================] - 0s 3ms/step - loss: 1.6964 - sparse_categorical_accuracy: 0.5000\n",
      "Epoch 34/100\n",
      "1/1 [==============================] - 0s 7ms/step - loss: 1.6930 - sparse_categorical_accuracy: 0.5000\n",
      "Epoch 35/100\n",
      "1/1 [==============================] - 0s 0s/step - loss: 1.6895 - sparse_categorical_accuracy: 0.5000\n",
      "Epoch 36/100\n",
      "1/1 [==============================] - 0s 9ms/step - loss: 1.6859 - sparse_categorical_accuracy: 0.5000\n",
      "Epoch 37/100\n",
      "1/1 [==============================] - 0s 8ms/step - loss: 1.6823 - sparse_categorical_accuracy: 0.5000\n",
      "Epoch 38/100\n",
      "1/1 [==============================] - 0s 3ms/step - loss: 1.6787 - sparse_categorical_accuracy: 0.6667\n",
      "Epoch 39/100\n",
      "1/1 [==============================] - 0s 14ms/step - loss: 1.6750 - sparse_categorical_accuracy: 0.6667\n",
      "Epoch 40/100\n",
      "1/1 [==============================] - 0s 0s/step - loss: 1.6712 - sparse_categorical_accuracy: 0.6667\n",
      "Epoch 41/100\n",
      "1/1 [==============================] - 0s 24ms/step - loss: 1.6673 - sparse_categorical_accuracy: 0.6667\n",
      "Epoch 42/100\n",
      "1/1 [==============================] - 0s 8ms/step - loss: 1.6634 - sparse_categorical_accuracy: 0.6667\n",
      "Epoch 43/100\n",
      "1/1 [==============================] - 0s 13ms/step - loss: 1.6594 - sparse_categorical_accuracy: 0.6667\n",
      "Epoch 44/100\n",
      "1/1 [==============================] - 0s 10ms/step - loss: 1.6554 - sparse_categorical_accuracy: 0.6667\n",
      "Epoch 45/100\n",
      "1/1 [==============================] - 0s 0s/step - loss: 1.6513 - sparse_categorical_accuracy: 0.6667\n",
      "Epoch 46/100\n",
      "1/1 [==============================] - 0s 14ms/step - loss: 1.6471 - sparse_categorical_accuracy: 0.8333\n",
      "Epoch 47/100\n",
      "1/1 [==============================] - 0s 0s/step - loss: 1.6428 - sparse_categorical_accuracy: 0.8333\n",
      "Epoch 48/100\n",
      "1/1 [==============================] - 0s 18ms/step - loss: 1.6385 - sparse_categorical_accuracy: 0.8333\n",
      "Epoch 49/100\n",
      "1/1 [==============================] - 0s 0s/step - loss: 1.6340 - sparse_categorical_accuracy: 0.8333\n",
      "Epoch 50/100\n",
      "1/1 [==============================] - 0s 5ms/step - loss: 1.6295 - sparse_categorical_accuracy: 0.8333\n",
      "Epoch 51/100\n",
      "1/1 [==============================] - 0s 0s/step - loss: 1.6249 - sparse_categorical_accuracy: 0.8333\n",
      "Epoch 52/100\n",
      "1/1 [==============================] - 0s 1ms/step - loss: 1.6202 - sparse_categorical_accuracy: 0.8333\n",
      "Epoch 53/100\n",
      "1/1 [==============================] - 0s 11ms/step - loss: 1.6154 - sparse_categorical_accuracy: 0.8333\n",
      "Epoch 54/100\n",
      "1/1 [==============================] - 0s 2ms/step - loss: 1.6106 - sparse_categorical_accuracy: 0.8333\n",
      "Epoch 55/100\n",
      "1/1 [==============================] - 0s 11ms/step - loss: 1.6056 - sparse_categorical_accuracy: 0.8333\n",
      "Epoch 56/100\n",
      "1/1 [==============================] - 0s 3ms/step - loss: 1.6005 - sparse_categorical_accuracy: 0.8333\n",
      "Epoch 57/100\n",
      "1/1 [==============================] - 0s 13ms/step - loss: 1.5954 - sparse_categorical_accuracy: 0.8333\n",
      "Epoch 58/100\n",
      "1/1 [==============================] - 0s 0s/step - loss: 1.5901 - sparse_categorical_accuracy: 0.8333\n",
      "Epoch 59/100\n",
      "1/1 [==============================] - 0s 17ms/step - loss: 1.5847 - sparse_categorical_accuracy: 0.6667\n",
      "Epoch 60/100\n",
      "1/1 [==============================] - 0s 5ms/step - loss: 1.5793 - sparse_categorical_accuracy: 0.6667\n",
      "Epoch 61/100\n",
      "1/1 [==============================] - 0s 10ms/step - loss: 1.5737 - sparse_categorical_accuracy: 0.6667\n",
      "Epoch 62/100\n",
      "1/1 [==============================] - 0s 7ms/step - loss: 1.5680 - sparse_categorical_accuracy: 0.6667\n",
      "Epoch 63/100\n",
      "1/1 [==============================] - 0s 6ms/step - loss: 1.5623 - sparse_categorical_accuracy: 0.6667\n",
      "Epoch 64/100\n",
      "1/1 [==============================] - 0s 12ms/step - loss: 1.5564 - sparse_categorical_accuracy: 0.6667\n",
      "Epoch 65/100\n",
      "1/1 [==============================] - 0s 10ms/step - loss: 1.5504 - sparse_categorical_accuracy: 0.6667\n",
      "Epoch 66/100\n",
      "1/1 [==============================] - 0s 5ms/step - loss: 1.5443 - sparse_categorical_accuracy: 0.6667\n",
      "Epoch 67/100\n",
      "1/1 [==============================] - 0s 12ms/step - loss: 1.5380 - sparse_categorical_accuracy: 0.6667\n",
      "Epoch 68/100\n",
      "1/1 [==============================] - 0s 5ms/step - loss: 1.5317 - sparse_categorical_accuracy: 0.6667\n",
      "Epoch 69/100\n",
      "1/1 [==============================] - 0s 9ms/step - loss: 1.5253 - sparse_categorical_accuracy: 0.6667\n",
      "Epoch 70/100\n",
      "1/1 [==============================] - 0s 2ms/step - loss: 1.5187 - sparse_categorical_accuracy: 0.6667\n",
      "Epoch 71/100\n",
      "1/1 [==============================] - 0s 0s/step - loss: 1.5121 - sparse_categorical_accuracy: 0.6667\n",
      "Epoch 72/100\n",
      "1/1 [==============================] - 0s 19ms/step - loss: 1.5053 - sparse_categorical_accuracy: 0.6667\n",
      "Epoch 73/100\n",
      "1/1 [==============================] - 0s 12ms/step - loss: 1.4984 - sparse_categorical_accuracy: 0.6667\n",
      "Epoch 74/100\n",
      "1/1 [==============================] - 0s 0s/step - loss: 1.4914 - sparse_categorical_accuracy: 0.6667\n",
      "Epoch 75/100\n",
      "1/1 [==============================] - 0s 18ms/step - loss: 1.4844 - sparse_categorical_accuracy: 0.6667\n",
      "Epoch 76/100\n",
      "1/1 [==============================] - 0s 0s/step - loss: 1.4772 - sparse_categorical_accuracy: 0.6667\n",
      "Epoch 77/100\n",
      "1/1 [==============================] - 0s 6ms/step - loss: 1.4699 - sparse_categorical_accuracy: 0.6667\n",
      "Epoch 78/100\n",
      "1/1 [==============================] - 0s 15ms/step - loss: 1.4625 - sparse_categorical_accuracy: 0.6667\n",
      "Epoch 79/100\n",
      "1/1 [==============================] - 0s 0s/step - loss: 1.4550 - sparse_categorical_accuracy: 0.6667\n",
      "Epoch 80/100\n",
      "1/1 [==============================] - 0s 15ms/step - loss: 1.4475 - sparse_categorical_accuracy: 0.6667\n",
      "Epoch 81/100\n",
      "1/1 [==============================] - 0s 0s/step - loss: 1.4398 - sparse_categorical_accuracy: 0.6667\n",
      "Epoch 82/100\n",
      "1/1 [==============================] - 0s 18ms/step - loss: 1.4321 - sparse_categorical_accuracy: 0.6667\n",
      "Epoch 83/100\n",
      "1/1 [==============================] - 0s 4ms/step - loss: 1.4243 - sparse_categorical_accuracy: 0.6667\n",
      "Epoch 84/100\n",
      "1/1 [==============================] - 0s 13ms/step - loss: 1.4164 - sparse_categorical_accuracy: 0.6667\n",
      "Epoch 85/100\n",
      "1/1 [==============================] - 0s 7ms/step - loss: 1.4085 - sparse_categorical_accuracy: 0.6667\n",
      "Epoch 86/100\n",
      "1/1 [==============================] - 0s 5ms/step - loss: 1.4005 - sparse_categorical_accuracy: 0.6667\n",
      "Epoch 87/100\n",
      "1/1 [==============================] - 0s 13ms/step - loss: 1.3924 - sparse_categorical_accuracy: 0.6667\n",
      "Epoch 88/100\n",
      "1/1 [==============================] - 0s 1ms/step - loss: 1.3843 - sparse_categorical_accuracy: 0.6667\n",
      "Epoch 89/100\n",
      "1/1 [==============================] - 0s 11ms/step - loss: 1.3762 - sparse_categorical_accuracy: 0.6667\n",
      "Epoch 90/100\n",
      "1/1 [==============================] - 0s 11ms/step - loss: 1.3681 - sparse_categorical_accuracy: 0.6667\n",
      "Epoch 91/100\n",
      "1/1 [==============================] - 0s 0s/step - loss: 1.3599 - sparse_categorical_accuracy: 0.6667\n",
      "Epoch 92/100\n",
      "1/1 [==============================] - 0s 16ms/step - loss: 1.3518 - sparse_categorical_accuracy: 0.8333\n",
      "Epoch 93/100\n",
      "1/1 [==============================] - 0s 9ms/step - loss: 1.3436 - sparse_categorical_accuracy: 0.8333\n",
      "Epoch 94/100\n",
      "1/1 [==============================] - 0s 3ms/step - loss: 1.3355 - sparse_categorical_accuracy: 0.8333\n",
      "Epoch 95/100\n",
      "1/1 [==============================] - 0s 13ms/step - loss: 1.3273 - sparse_categorical_accuracy: 0.8333\n",
      "Epoch 96/100\n",
      "1/1 [==============================] - 0s 0s/step - loss: 1.3193 - sparse_categorical_accuracy: 0.8333\n",
      "Epoch 97/100\n",
      "1/1 [==============================] - 0s 16ms/step - loss: 1.3112 - sparse_categorical_accuracy: 0.8333\n",
      "Epoch 98/100\n",
      "1/1 [==============================] - 0s 0s/step - loss: 1.3032 - sparse_categorical_accuracy: 0.8333\n",
      "Epoch 99/100\n",
      "1/1 [==============================] - 0s 18ms/step - loss: 1.2953 - sparse_categorical_accuracy: 0.8333\n",
      "Epoch 100/100\n",
      "1/1 [==============================] - 0s 18ms/step - loss: 1.2875 - sparse_categorical_accuracy: 0.8333\n",
      "Model: \"sequential_2\"\n",
      "_________________________________________________________________\n",
      " Layer (type)                Output Shape              Param #   \n",
      "=================================================================\n",
      " lstm_4 (LSTM)               (None, 2, 10)             680       \n",
      "                                                                 \n",
      " lstm_5 (LSTM)               (None, 10)                840       \n",
      "                                                                 \n",
      " dense_2 (Dense)             (None, 6)                 66        \n",
      "                                                                 \n",
      "=================================================================\n",
      "Total params: 1586 (6.20 KB)\n",
      "Trainable params: 1586 (6.20 KB)\n",
      "Non-trainable params: 0 (0.00 Byte)\n",
      "_________________________________________________________________\n"
     ]
    }
   ],
   "source": [
    "histroy = model.fit(\n",
    "    trainX,\n",
    "    trainY,\n",
    "    epochs = 100)\n",
    "model.summary()"
   ]
  },
  {
   "cell_type": "code",
   "execution_count": 30,
   "metadata": {},
   "outputs": [
    {
     "data": {
      "text/plain": [
       "<matplotlib.legend.Legend at 0x1ee1ede28c0>"
      ]
     },
     "execution_count": 30,
     "metadata": {},
     "output_type": "execute_result"
    },
    {
     "data": {
      "image/png": "[encoded data removed]",
      "text/plain": [
       "<Figure size 640x480 with 2 Axes>"
      ]
     },
     "metadata": {},
     "output_type": "display_data"
    }
   ],
   "source": [
    "acc = histroy.history['sparse_categorical_accuracy']\n",
    "loss = histroy.history['loss']\n",
    "\n",
    "plt.subplot(1, 2, 1)\n",
    "plt.plot(acc, label='Train Accuracy')\n",
    "plt.title('Train Accuracy')\n",
    "plt.legend()\n",
    "\n",
    "plt.subplot(1, 2, 2)\n",
    "plt.plot(loss, label='Training Loss')\n",
    "plt.title('Training Loss')\n",
    "plt.legend()"
   ]
  },
  {
   "cell_type": "code",
   "execution_count": 33,
   "metadata": {},
   "outputs": [
    {
     "name": "stdout",
     "output_type": "stream",
     "text": [
      "1/1 [==============================] - 0s 27ms/step\n",
      "4\n",
      "1/1 [==============================] - 0s 30ms/step\n",
      "1\n",
      "1/1 [==============================] - 0s 27ms/step\n",
      "1\n",
      "1/1 [==============================] - 0s 15ms/step\n",
      "4\n",
      "1/1 [==============================] - 0s 19ms/step\n",
      "1\n",
      "1/1 [==============================] - 0s 15ms/step\n",
      "1\n"
     ]
    },
    {
     "data": {
      "text/plain": [
       "1"
      ]
     },
     "execution_count": 33,
     "metadata": {},
     "output_type": "execute_result"
    }
   ],
   "source": [
    "for line in trainX:\n",
    "    # print(np.array([line]).sha]\n",
    "    # pe)\n",
    "    predictY = model.predict(np.array([line]))\n",
    "    res = int(tf.argmax(predictY, axis=1))\n",
    "    print(res)\n",
    "# predictY = model.predict(np.array([tf.one_hot([1, 4], depth = labelShape)]))\n",
    "# res = int(tf.argmax(predictY, axis = 1))\n",
    "\n",
    "res"
   ]
  }
 ],
 "metadata": {
  "kernelspec": {
   "display_name": "Python 3",
   "language": "python",
   "name": "python3"
  },
  "language_info": {
   "codemirror_mode": {
    "name": "ipython",
    "version": 3
   },
   "file_extension": ".py",
   "mimetype": "text/x-python",
   "name": "python",
   "nbconvert_exporter": "python",
   "pygments_lexer": "ipython3",
   "version": "3.10.5"
  },
  "orig_nbformat": 4,
  "vscode": {
   "interpreter": {
    "hash": "d7e1ff34b87b7117ec51074ce9135118c38474595f262d12cfb2c8fbe549e539"
   }
  }
 },
 "nbformat": 4,
 "nbformat_minor": 2
}
