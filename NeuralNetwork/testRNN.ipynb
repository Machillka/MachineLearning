{
 "cells": [
  {
   "cell_type": "code",
   "execution_count": 39,
   "metadata": {},
   "outputs": [],
   "source": [
    "import numpy as np\n",
    "import matplotlib.pyplot as plt\n",
    "import tensorflow as tf\n",
    "from tensorflow import keras\n",
    "\n",
    "%matplotlib inline"
   ]
  },
  {
   "cell_type": "code",
   "execution_count": 40,
   "metadata": {},
   "outputs": [],
   "source": [
    "BUFFERSIZE = 114514\n",
    "BATCHSIZE = 64\n",
    "\n",
    "(trainImg, _), (_, _) = keras.datasets.mnist.load_data()\n",
    "\n",
    "trainX = trainImg[: 1000]\n",
    "# trainX = tf.data.Dataset.from_tensor_slices(trainX).shuffle(BUFFERSIZE).batch(BATCHSIZE)\n"
   ]
  },
  {
   "cell_type": "code",
   "execution_count": 41,
   "metadata": {},
   "outputs": [],
   "source": [
    "identifier = keras.Sequential([\n",
    "    \n",
    "])\n",
    "\n",
    "\n",
    "generator = keras.Sequential([\n",
    "    keras.layers.GRU(\n",
    "        units = 28 * 28 * 1,\n",
    "        input_shape = (28, 28, )\n",
    "    ),\n",
    "\n",
    "    keras.layers.Reshape((28, 28, 1)),\n",
    "])\n"
   ]
  },
  {
   "cell_type": "code",
   "execution_count": 42,
   "metadata": {},
   "outputs": [
    {
     "name": "stdout",
     "output_type": "stream",
     "text": [
      "Epoch 1/5\n",
      "32/32 [==============================] - 17s 475ms/step - loss: 7079.8516\n",
      "Epoch 2/5\n",
      "32/32 [==============================] - 10s 318ms/step - loss: 7070.2246\n",
      "Epoch 3/5\n",
      "32/32 [==============================] - 9s 267ms/step - loss: 7068.8096\n",
      "Epoch 4/5\n",
      "32/32 [==============================] - 8s 263ms/step - loss: 7067.9419\n",
      "Epoch 5/5\n",
      "32/32 [==============================] - 8s 263ms/step - loss: 7067.0869\n"
     ]
    }
   ],
   "source": [
    "generator.compile(\n",
    "    optimizer = keras.optimizers.Adam(0.3),\n",
    "    loss = keras.losses.mse,\n",
    ")\n",
    "\n",
    "history = generator.fit(trainX, trainX, epochs = 5)"
   ]
  },
  {
   "cell_type": "code",
   "execution_count": 46,
   "metadata": {},
   "outputs": [
    {
     "data": {
      "text/plain": [
       "<matplotlib.image.AxesImage at 0x181137af340>"
      ]
     },
     "execution_count": 46,
     "metadata": {},
     "output_type": "execute_result"
    },
    {
     "data": {
      "image/png": "[encoded data removed]",
      "text/plain": [
       "<Figure size 640x480 with 1 Axes>"
      ]
     },
     "metadata": {},
     "output_type": "display_data"
    }
   ],
   "source": [
    "output = generator(np.array([trainImg[1]]))\n",
    "\n",
    "plt.imshow(output[0, :, :, 0], cmap = 'gray')"
   ]
  }
 ],
 "metadata": {
  "kernelspec": {
   "display_name": "Python 3",
   "language": "python",
   "name": "python3"
  },
  "language_info": {
   "codemirror_mode": {
    "name": "ipython",
    "version": 3
   },
   "file_extension": ".py",
   "mimetype": "text/x-python",
   "name": "python",
   "nbconvert_exporter": "python",
   "pygments_lexer": "ipython3",
   "version": "3.10.5"
  }
 },
 "nbformat": 4,
 "nbformat_minor": 2
}
