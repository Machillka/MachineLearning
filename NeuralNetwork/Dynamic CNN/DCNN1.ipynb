{
 "cells": [
  {
   "cell_type": "code",
   "execution_count": null,
   "metadata": {},
   "outputs": [],
   "source": [
    "import numpy as np\n",
    "import pandas as pd"
   ]
  },
  {
   "cell_type": "code",
   "execution_count": null,
   "metadata": {},
   "outputs": [],
   "source": [
    "from tensorflow import keras\n",
    "\n",
    "class DCNN(keras.Model):\n",
    "    def __init__(self, inputDim, outputDim, filters):\n",
    "        self.embeddingInput = keras.layers.Embedding(\n",
    "            input_dim = inputDim,\n",
    "            output_dim = outputDim\n",
    "        )\n",
    "\n",
    "        self.conv1 = keras.layers.Conv3D(\n",
    "            filters = filters[0],\n",
    "            \n",
    "        )\n",
    "\n",
    "\n",
    "    def call(self):\n",
    "        pass"
   ]
  }
 ],
 "metadata": {
  "language_info": {
   "name": "python"
  },
  "orig_nbformat": 4
 },
 "nbformat": 4,
 "nbformat_minor": 2
}
