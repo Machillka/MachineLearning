{
 "cells": [
  {
   "cell_type": "code",
   "execution_count": 1,
   "metadata": {},
   "outputs": [],
   "source": [
    "import numpy as np\n",
    "import pandas as pd"
   ]
  },
  {
   "cell_type": "code",
   "execution_count": null,
   "metadata": {},
   "outputs": [],
   "source": [
    "from tensorflow import keras\n",
    "\n",
    "class DCNN(keras.Model):\n",
    "    def __init__(self, kernelSize, filterCount, poolSize):\n",
    "        '''\n",
    "        初始化DCNN的模型\n",
    "        kernelSize -> 卷积层内核大小\n",
    "        filterCount -> 卷积层个数\n",
    "        poolSize -> 池化层的大小\n",
    "        '''\n",
    "\n",
    "        super().__init__()\n",
    "\n",
    "        self.cnn1 = keras.layers.Conv2D(\n",
    "            kernel_size = kernelSize,\n",
    "            filters = filterCount,\n",
    "        )\n",
    "\n",
    "        self.cnn2 = keras.layers.Conv2D(\n",
    "            kernel_size = kernelSize,\n",
    "            filters = filterCount,\n",
    "        )\n",
    "\n",
    "        self.pool1 = keras.layers.MaxPool2D(\n",
    "            pool_size = poolSize\n",
    "        )\n",
    "\n",
    "        self.pool2 = keras.layers.MaxPool2D(\n",
    "            pool_size = poolSize\n",
    "        )\n",
    "\n",
    "    \n",
    "\n",
    "    def call(self):\n",
    "        pass\n"
   ]
  }
 ],
 "metadata": {
  "kernelspec": {
   "display_name": "Python 3",
   "language": "python",
   "name": "python3"
  },
  "language_info": {
   "codemirror_mode": {
    "name": "ipython",
    "version": 3
   },
   "file_extension": ".py",
   "mimetype": "text/x-python",
   "name": "python",
   "nbconvert_exporter": "python",
   "pygments_lexer": "ipython3",
   "version": "3.10.5"
  }
 },
 "nbformat": 4,
 "nbformat_minor": 2
}
