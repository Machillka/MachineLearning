{
 "cells": [
  {
   "cell_type": "markdown",
   "metadata": {},
   "source": [
    "# BP for quadratic regression\n",
    "without the normalization and other optimizers, try the simplest model to predict the quadratic function\n",
    "\n",
    "### log for 2023.10.4\n",
    "add the tensorboard to visualize the training process\n",
    "make the additional explanatory note in order to optimize the model"
   ]
  },
  {
   "cell_type": "code",
   "execution_count": 22,
   "metadata": {},
   "outputs": [],
   "source": [
    "import numpy as np\n",
    "import tensorflow as tf\n",
    "import matplotlib.pyplot as plt\n",
    "%matplotlib inline"
   ]
  },
  {
   "cell_type": "code",
   "execution_count": 23,
   "metadata": {},
   "outputs": [],
   "source": [
    "np.random.seed(511)\n",
    "\n",
    "# 处理数据\n",
    "def RealFunction(x):\n",
    "    return ( x ** 2 ) / 2.7 + 7.81 * x\n",
    "\n",
    "trainX = np.random.rand(100).astype(np.float32)\n",
    "trainY = ( lambda x: RealFunction(x) + np.random.normal(-0.005, 0.005) )(trainX)\n",
    "\n",
    "testX = np.random.rand(10).astype(np.float32)\n",
    "testY = RealFunction(testX)"
   ]
  },
  {
   "cell_type": "code",
   "execution_count": 24,
   "metadata": {},
   "outputs": [
    {
     "name": "stdout",
     "output_type": "stream",
     "text": [
      "Model: \"sequential_3\"\n",
      "_________________________________________________________________\n",
      " Layer (type)                Output Shape              Param #   \n",
      "=================================================================\n",
      " dense_9 (Dense)             (None, 64)                128       \n",
      "                                                                 \n",
      " dropout_3 (Dropout)         (None, 64)                0         \n",
      "                                                                 \n",
      " dense_10 (Dense)            (None, 32)                2080      \n",
      "                                                                 \n",
      " dense_11 (Dense)            (None, 1)                 33        \n",
      "                                                                 \n",
      "=================================================================\n",
      "Total params: 2241 (8.75 KB)\n",
      "Trainable params: 2241 (8.75 KB)\n",
      "Non-trainable params: 0 (0.00 Byte)\n",
      "_________________________________________________________________\n",
      "None\n"
     ]
    }
   ],
   "source": [
    "# 构建模型\n",
    "from tensorflow import keras\n",
    "\n",
    "model = keras.Sequential([\n",
    "    keras.layers.Dense(64, input_shape = (1, ), activation = 'relu'),                    # 指定输入维度\n",
    "    keras.layers.Dropout(0.3),                                                          # 防止过拟合\n",
    "\n",
    "    keras.layers.Dense(32),\n",
    "    # keras.layers.Dense(128, activation = 'relu'),\n",
    "    # keras.layers.Dense(64, activation = 'relu'),\n",
    "    keras.layers.Dense(1)                                                               # 输出\n",
    "])\n",
    "\n",
    "print(model.summary())\n"
   ]
  },
  {
   "cell_type": "code",
   "execution_count": 25,
   "metadata": {},
   "outputs": [],
   "source": [
    "# add the callback function\n",
    "import datetime\n",
    "logdir = \"../TensorflowLog/BP1/scalars/\" + datetime.datetime.now().strftime(\"%Y%m%d-%H%M%S\")\n",
    "tensorboardCallback = keras.callbacks.TensorBoard(log_dir=logdir)"
   ]
  },
  {
   "cell_type": "code",
   "execution_count": 26,
   "metadata": {},
   "outputs": [],
   "source": [
    "model.compile(optimizer = keras.optimizers.Adam(0.001), loss = 'mse', metrics = ['accuracy'])"
   ]
  },
  {
   "cell_type": "code",
   "execution_count": 27,
   "metadata": {},
   "outputs": [
    {
     "data": {
      "text/plain": [
       "<keras.src.callbacks.History at 0x1f5ed7786d0>"
      ]
     },
     "execution_count": 27,
     "metadata": {},
     "output_type": "execute_result"
    }
   ],
   "source": [
    "model.fit(trainX, trainY, epochs = 100, validation_split = 0.3, verbose = 0, callbacks = [tensorboardCallback])                    # 用数据的30%作为校验集"
   ]
  },
  {
   "cell_type": "code",
   "execution_count": 28,
   "metadata": {},
   "outputs": [
    {
     "name": "stdout",
     "output_type": "stream",
     "text": [
      "1/1 [==============================] - 0s 97ms/step\n",
      "[[4.6159387 ]\n",
      " [2.2805674 ]\n",
      " [2.3518715 ]\n",
      " [6.2040315 ]\n",
      " [0.46605632]\n",
      " [4.0842404 ]\n",
      " [4.348564  ]\n",
      " [3.4924338 ]\n",
      " [3.3093886 ]\n",
      " [5.090279  ]]\n",
      "[4.748176   2.1780314  2.2554083  6.538195   0.02140447 4.1565194\n",
      " 4.4501705  3.5024874  3.3011587  5.279244  ]\n",
      "[[76.49343]]\n",
      "120.04453333333333\n"
     ]
    }
   ],
   "source": [
    "print(model.predict(testX))\n",
    "print(testY)\n",
    "\n",
    "print(model(np.array([[10.32]])).numpy())\n",
    "print(RealFunction(10.32))"
   ]
  }
 ],
 "metadata": {
  "kernelspec": {
   "display_name": "Python 3",
   "language": "python",
   "name": "python3"
  },
  "language_info": {
   "codemirror_mode": {
    "name": "ipython",
    "version": 3
   },
   "file_extension": ".py",
   "mimetype": "text/x-python",
   "name": "python",
   "nbconvert_exporter": "python",
   "pygments_lexer": "ipython3",
   "version": "3.10.5"
  },
  "orig_nbformat": 4
 },
 "nbformat": 4,
 "nbformat_minor": 2
}
