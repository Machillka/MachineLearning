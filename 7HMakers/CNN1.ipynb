{
 "cells": [
  {
   "cell_type": "code",
   "execution_count": 1,
   "metadata": {},
   "outputs": [],
   "source": [
    "import tensorflow as tf\n",
    "import numpy as np\n",
    "import pandas as pd \n",
    "import matplotlib.pyplot as plt\n",
    "%matplotlib inline"
   ]
  },
  {
   "cell_type": "code",
   "execution_count": 2,
   "metadata": {},
   "outputs": [],
   "source": [
    "(trainImage, trainLable), (testImage, testLable) = tf.keras.datasets.mnist.load_data()\n",
    "\n",
    "trainImage = trainImage / 255\n",
    "testImage = testImage / 255"
   ]
  },
  {
   "cell_type": "code",
   "execution_count": 3,
   "metadata": {},
   "outputs": [
    {
     "data": {
      "text/plain": [
       "<matplotlib.image.AxesImage at 0x22447fa2590>"
      ]
     },
     "execution_count": 3,
     "metadata": {},
     "output_type": "execute_result"
    },
    {
     "data": {
      "image/png": "[encoded data removed]",
      "text/plain": [
       "<Figure size 640x480 with 1 Axes>"
      ]
     },
     "metadata": {},
     "output_type": "display_data"
    }
   ],
   "source": [
    "trainImage = trainImage.reshape((len(trainImage), trainImage[0].shape[0], trainImage[0].shape[1], 1))\n",
    "trainImage = np.ceil(trainImage)\n",
    "\n",
    "plt.imshow(trainImage[2])\n"
   ]
  },
  {
   "cell_type": "code",
   "execution_count": 4,
   "metadata": {},
   "outputs": [],
   "source": [
    "model = tf.keras.Sequential([\n",
    "    tf.keras.layers.Conv2D(128, 3, activation = 'relu', input_shape = (28, 28, 1)),\n",
    "    tf.keras.layers.Dropout(0.3),\n",
    "    tf.keras.layers.MaxPool2D((2, 2), strides = 2),\n",
    "\n",
    "    tf.keras.layers.Conv2D(64, 3, activation = 'relu'),\n",
    "    tf.keras.layers.Dropout(0.3),\n",
    "    tf.keras.layers.MaxPool2D((2, 2), strides = 2),\n",
    "\n",
    "    tf.keras.layers.Flatten(),\n",
    "    \n",
    "    # tf.keras.layers.Dense(128, activation = 'relu'),\n",
    "    # tf.keras.layers.Dropout(0.3),\n",
    "\n",
    "    # tf.keras.layers.Dense(64, activation = 'relu'),\n",
    "    # tf.keras.layers.Dropout(0.3),\n",
    "\n",
    "    # tf.keras.layers.Dense(32, activation = 'relu'),\n",
    "    # tf.keras.layers.Dropout(0.3),\n",
    "\n",
    "    tf.keras.layers.Dense(10, activation = 'softmax')\n",
    "])"
   ]
  },
  {
   "cell_type": "code",
   "execution_count": 5,
   "metadata": {},
   "outputs": [],
   "source": [
    "# model.summary()"
   ]
  },
  {
   "cell_type": "code",
   "execution_count": 6,
   "metadata": {},
   "outputs": [],
   "source": [
    "model.compile(\n",
    "    optimizer = tf.keras.optimizers.Adam(0.03),\n",
    "    loss = 'sparse_categorical_crossentropy',\n",
    "    metrics = ['acc']\n",
    ")"
   ]
  },
  {
   "cell_type": "code",
   "execution_count": 7,
   "metadata": {},
   "outputs": [],
   "source": [
    "import os\n",
    "\n",
    "if os.path.exists('../SavedModel/CNN1.h5'):\n",
    "    model.load_weights('../SavedModel/CNN1.h5')\n",
    "\n",
    "# history = model.fit(\n",
    "#     trainImage,\n",
    "#     trainLable,\n",
    "#     batch_size = 64,\n",
    "#     epochs = 1\n",
    "# )"
   ]
  },
  {
   "cell_type": "code",
   "execution_count": 8,
   "metadata": {},
   "outputs": [],
   "source": [
    "model.save_weights('../SavedModel/CNN1.h5')"
   ]
  },
  {
   "cell_type": "code",
   "execution_count": 9,
   "metadata": {},
   "outputs": [
    {
     "name": "stdout",
     "output_type": "stream",
     "text": [
      "313/313 [==============================] - 3s 9ms/step - loss: 0.2223 - acc: 0.9564\n"
     ]
    },
    {
     "data": {
      "text/plain": [
       "[0.22226671874523163, 0.9563999772071838]"
      ]
     },
     "execution_count": 9,
     "metadata": {},
     "output_type": "execute_result"
    }
   ],
   "source": [
    "testImage = testImage.reshape((len(testImage), testImage[0].shape[0], testImage[0].shape[1], 1))\n",
    "model.evaluate(testImage, testLable)"
   ]
  },
  {
   "cell_type": "code",
   "execution_count": 11,
   "metadata": {},
   "outputs": [
    {
     "name": "stdout",
     "output_type": "stream",
     "text": [
      "4\n",
      "tf.Tensor(\n",
      "[[8.3948573e-05 6.6787135e-03 2.5344890e-02 9.9308901e-03 8.1356287e-01\n",
      "  7.4659567e-03 1.8919456e-04 9.3397163e-02 3.4167204e-02 9.1790110e-03]], shape=(1, 10), dtype=float32)\n"
     ]
    },
    {
     "data": {
      "image/png": "[encoded data removed]",
      "text/plain": [
       "<Figure size 640x480 with 1 Axes>"
      ]
     },
     "metadata": {},
     "output_type": "display_data"
    }
   ],
   "source": [
    "img = plt.imread('../Database/6.png')\n",
    "plt.imshow(img)\n",
    "\n",
    "res = model(np.array([img]))\n",
    "print(np.argmax(res))\n",
    "print(res)"
   ]
  }
 ],
 "metadata": {
  "kernelspec": {
   "display_name": "Python 3",
   "language": "python",
   "name": "python3"
  },
  "language_info": {
   "codemirror_mode": {
    "name": "ipython",
    "version": 3
   },
   "file_extension": ".py",
   "mimetype": "text/x-python",
   "name": "python",
   "nbconvert_exporter": "python",
   "pygments_lexer": "ipython3",
   "version": "3.10.5"
  },
  "orig_nbformat": 4,
  "vscode": {
   "interpreter": {
    "hash": "d7e1ff34b87b7117ec51074ce9135118c38474595f262d12cfb2c8fbe549e539"
   }
  }
 },
 "nbformat": 4,
 "nbformat_minor": 2
}
